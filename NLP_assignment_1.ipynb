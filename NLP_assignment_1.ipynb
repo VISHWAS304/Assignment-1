{
 "cells": [
  {
   "cell_type": "markdown",
   "id": "642800e0",
   "metadata": {},
   "source": [
    "Creating a Regex Expression: Regex expressions are used for string searching and manipulation. \n",
    "For example, to match an email address,  regex r\"[a-zA-Z0-9_.+-]+@[a-zA-Z0-9-]+\\.[a-zA-Z0-9-.]+\"."
   ]
  },
  {
   "cell_type": "markdown",
   "id": "9550469e",
   "metadata": {},
   "source": [
    "**Comments:**\n",
    "\n",
    "[a-zA-Z0-9_.+-]+ matches the email username, allowing letters, digits, underscores, periods, pluses, and hyphens.\n",
    "@ is a literal match for the at symbol.\n",
    "[a-zA-Z0-9-]+\\. matches the domain name with letters, digits, and hyphens, followed by a period.\n",
    "[a-zA-Z0-9-.]+ matches the top-level domain, allowing letters, digits, periods, and hyphens.\n",
    "\n",
    "**Output:** This regex will match valid email addresses within a string."
   ]
  },
  {
   "cell_type": "markdown",
   "id": "9a922d33",
   "metadata": {},
   "source": [
    "### 2. Writing a Preprocess Function\n",
    "Below is an example preprocess function with steps including conversion to lowercase,\n",
    "removing punctuation, and tokenizing, along with comments explaining each step:"
   ]
  },
  {
   "cell_type": "code",
   "execution_count": 1,
   "id": "b38231fc",
   "metadata": {},
   "outputs": [
    {
     "name": "stderr",
     "output_type": "stream",
     "text": [
      "[nltk_data] Downloading package punkt to\n",
      "[nltk_data]     C:\\Users\\vishw\\AppData\\Roaming\\nltk_data...\n",
      "[nltk_data]   Package punkt is already up-to-date!\n"
     ]
    }
   ],
   "source": [
    "import re\n",
    "import nltk\n",
    "nltk.download('punkt')\n",
    "from nltk.tokenize import word_tokenize\n",
    "\n",
    "def preprocess_text(text):\n",
    "    text = text.lower()  # Convert text to lowercase\n",
    "    text = re.sub(r'\\d+', '', text)  # Remove numbers\n",
    "    text = re.sub(r'[^\\w\\s]', '', text)  # Remove punctuation\n",
    "    tokens = word_tokenize(text)  # Tokenize the text\n",
    "    return tokens\n"
   ]
  },
  {
   "cell_type": "markdown",
   "id": "8664b6ed",
   "metadata": {},
   "source": [
    "**Comments:** Each step in the function is designed to clean the text data, making it more suitable for natural language processing tasks.\n",
    "\n",
    "**Output:** For the given example_text, the output will be a list of tokens: ['hello', 'world', 'this', 'is', 'an', 'example', 'text', 'with', 'numbers']."
   ]
  },
  {
   "cell_type": "markdown",
   "id": "d5dc4275",
   "metadata": {},
   "source": [
    "### 3. Calculating the Levenshtein Distance\n",
    "The Levenshtein distance function calculates the minimum number of single-character edits \n",
    "(insertions, deletions, or substitutions) required to change one word into the other. \n",
    "Below is the function with comments:"
   ]
  },
  {
   "cell_type": "code",
   "execution_count": 4,
   "id": "e77659bb",
   "metadata": {},
   "outputs": [
    {
     "name": "stdout",
     "output_type": "stream",
     "text": [
      "3\n"
     ]
    }
   ],
   "source": [
    "def levenshtein_distance(s1, s2):\n",
    "    \"\"\"Calculates the Levenshtein distance between two strings.\"\"\"\n",
    "    if len(s1) < len(s2):\n",
    "        return levenshtein_distance(s2, s1)\n",
    "\n",
    "    if len(s2) == 0:\n",
    "        return len(s1)\n",
    "\n",
    "    previous_row = range(len(s2) + 1)\n",
    "    for i, c1 in enumerate(s1):\n",
    "        current_row = [i + 1]\n",
    "        for j, c2 in enumerate(s2):\n",
    "            insertions = previous_row[j + 1] + 1\n",
    "            deletions = current_row[j] + 1\n",
    "            substitutions = previous_row[j] + (c1 != c2)\n",
    "            current_row.append(min(insertions, deletions, substitutions))\n",
    "        previous_row = current_row\n",
    "\n",
    "    return previous_row[-1]\n",
    "\n",
    "# Example usage\n",
    "distance = levenshtein_distance(\"kitten\", \"sitting\")\n",
    "print(distance)\n"
   ]
  },
  {
   "cell_type": "markdown",
   "id": "7bdafaa0",
   "metadata": {},
   "source": [
    "**Comments:** The function efficiently calculates the distance by dynamically computing the minimum cost of operations needed to transform one string into another.\n",
    "\n",
    "**Output:** For the example words \"kitten\" and \"sitting\", the output will be 3, indicating three edits are required (substitute 'k' with 's', substitute 'e' with 'i', insert 'g' at the end)."
   ]
  },
  {
   "cell_type": "code",
   "execution_count": null,
   "id": "bd0a596c",
   "metadata": {},
   "outputs": [],
   "source": []
  }
 ],
 "metadata": {
  "kernelspec": {
   "display_name": "Python 3 (ipykernel)",
   "language": "python",
   "name": "python3"
  },
  "language_info": {
   "codemirror_mode": {
    "name": "ipython",
    "version": 3
   },
   "file_extension": ".py",
   "mimetype": "text/x-python",
   "name": "python",
   "nbconvert_exporter": "python",
   "pygments_lexer": "ipython3",
   "version": "3.11.5"
  }
 },
 "nbformat": 4,
 "nbformat_minor": 5
}
